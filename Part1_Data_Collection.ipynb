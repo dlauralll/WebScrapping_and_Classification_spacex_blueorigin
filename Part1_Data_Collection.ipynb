{
 "cells": [
  {
   "cell_type": "markdown",
   "metadata": {},
   "source": [
    "# 3.1 Data Collection"
   ]
  },
  {
   "cell_type": "markdown",
   "metadata": {},
   "source": [
    "### Problem Statement"
   ]
  },
  {
   "cell_type": "markdown",
   "metadata": {},
   "source": [
    "Pull contents of subreddits- spacex and blueorigin using Reddit API and then use NLP to train a classifier on which subreddit a given post came from. "
   ]
  },
  {
   "cell_type": "markdown",
   "metadata": {},
   "source": [
    "### Data Collection"
   ]
  },
  {
   "cell_type": "code",
   "execution_count": 1,
   "metadata": {},
   "outputs": [],
   "source": [
    "import requests\n",
    "import time"
   ]
  },
  {
   "cell_type": "code",
   "execution_count": 2,
   "metadata": {},
   "outputs": [],
   "source": [
    "sub_reddit_1 = 'spacex'\n",
    "sub_reddit_2 = 'blueorigin'\n",
    "url_temp = 'https://www.reddit.com/r/{}.json'\n",
    "headers = {'User-agent': 'Bleep blorp bot 0.1'}"
   ]
  },
  {
   "cell_type": "code",
   "execution_count": 3,
   "metadata": {},
   "outputs": [],
   "source": [
    "# create a function to pull all titles of the post\n",
    "# since most reddit posts only have titles\n",
    "def get_all_posts(sub_reddit):\n",
    "    after = ''\n",
    "    all_posts = []\n",
    "    while len(all_posts) < 1200:\n",
    "        if after:\n",
    "#             print('after is {}'.format(after))\n",
    "            params = {'after': after}\n",
    "        else:\n",
    "            params = {}\n",
    "        response = requests.get(url_temp.format(sub_reddit), headers=headers, params=params)\n",
    "        after = response.json()['data']['after']\n",
    "        posts = response.json()['data']['children']\n",
    "        for post in posts:\n",
    "            if 'data' in post:\n",
    "                all_posts.append(post['data']['title'])\n",
    "#         print(\"{} posts saved!\".format(len(all_posts)))\n",
    "        time.sleep(5)\n",
    "    return all_posts"
   ]
  },
  {
   "cell_type": "code",
   "execution_count": 4,
   "metadata": {},
   "outputs": [],
   "source": [
    "# pull posts for spacex\n",
    "all_posts_1 = get_all_posts(sub_reddit_1)"
   ]
  },
  {
   "cell_type": "code",
   "execution_count": 5,
   "metadata": {},
   "outputs": [
    {
     "data": {
      "text/plain": [
       "1216"
      ]
     },
     "execution_count": 5,
     "metadata": {},
     "output_type": "execute_result"
    }
   ],
   "source": [
    "len(all_posts_1)"
   ]
  },
  {
   "cell_type": "code",
   "execution_count": 12,
   "metadata": {},
   "outputs": [],
   "source": [
    "# remove duplicated posts\n",
    "unique_posts_1 = set(all_posts_1)"
   ]
  },
  {
   "cell_type": "code",
   "execution_count": 13,
   "metadata": {
    "scrolled": true
   },
   "outputs": [
    {
     "data": {
      "text/plain": [
       "989"
      ]
     },
     "execution_count": 13,
     "metadata": {},
     "output_type": "execute_result"
    }
   ],
   "source": [
    "len(unique_posts_1)"
   ]
  },
  {
   "cell_type": "code",
   "execution_count": 6,
   "metadata": {},
   "outputs": [],
   "source": [
    "# pull posts for blueorigin\n",
    "all_posts_2 = get_all_posts(sub_reddit_2)"
   ]
  },
  {
   "cell_type": "code",
   "execution_count": 9,
   "metadata": {},
   "outputs": [
    {
     "data": {
      "text/plain": [
       "1210"
      ]
     },
     "execution_count": 9,
     "metadata": {},
     "output_type": "execute_result"
    }
   ],
   "source": [
    "len(all_posts_2)"
   ]
  },
  {
   "cell_type": "code",
   "execution_count": 14,
   "metadata": {},
   "outputs": [],
   "source": [
    "# remove duplicated posts\n",
    "unique_posts_2 = set(all_posts_2)"
   ]
  },
  {
   "cell_type": "code",
   "execution_count": 15,
   "metadata": {},
   "outputs": [
    {
     "data": {
      "text/plain": [
       "977"
      ]
     },
     "execution_count": 15,
     "metadata": {},
     "output_type": "execute_result"
    }
   ],
   "source": [
    "len(unique_posts_2)"
   ]
  },
  {
   "cell_type": "markdown",
   "metadata": {},
   "source": [
    "Pulled 989 posts for spacex and 977 posts for blueorigin."
   ]
  },
  {
   "cell_type": "markdown",
   "metadata": {},
   "source": [
    "### Save Data as csv"
   ]
  },
  {
   "cell_type": "code",
   "execution_count": 19,
   "metadata": {},
   "outputs": [],
   "source": [
    "import pandas as pd"
   ]
  },
  {
   "cell_type": "code",
   "execution_count": 23,
   "metadata": {},
   "outputs": [],
   "source": [
    "# convert data to dataframe and save as csv\n",
    "subreddit_1 = pd.DataFrame(unique_posts_1)\n",
    "subreddit_1.to_csv('./datasets/subreddit_1.csv', index=False)"
   ]
  },
  {
   "cell_type": "code",
   "execution_count": 24,
   "metadata": {},
   "outputs": [],
   "source": [
    "# convert data to dataframe and save as csv\n",
    "subreddit_2 = pd.DataFrame(unique_posts_2)\n",
    "subreddit_2.to_csv('./datasets/subreddit_2.csv', index=False)"
   ]
  }
 ],
 "metadata": {
  "kernelspec": {
   "display_name": "Python 3",
   "language": "python",
   "name": "python3"
  },
  "language_info": {
   "codemirror_mode": {
    "name": "ipython",
    "version": 3
   },
   "file_extension": ".py",
   "mimetype": "text/x-python",
   "name": "python",
   "nbconvert_exporter": "python",
   "pygments_lexer": "ipython3",
   "version": "3.7.3"
  }
 },
 "nbformat": 4,
 "nbformat_minor": 2
}
